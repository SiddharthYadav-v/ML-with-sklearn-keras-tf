{
 "cells": [
  {
   "attachments": {},
   "cell_type": "markdown",
   "metadata": {},
   "source": [
    "Implement batch gradient descent with early stopping for softmax regression without using Scikit-Learn, only NumPy. Use it on a classification task such as the iris dataset"
   ]
  },
  {
   "cell_type": "code",
   "execution_count": 18,
   "metadata": {},
   "outputs": [],
   "source": [
    "import numpy as np\n",
    "from copy import deepcopy\n",
    "\n",
    "epsilon = 1e-5\n",
    "\n",
    "def to_one_hot(y):\n",
    "    return np.diag(np.ones(y.max() + 1))[y]\n",
    "\n",
    "class SoftMaxRegression:\n",
    "    def softmax(self, logits):\n",
    "        exps = np.exp(logits)\n",
    "        exp_sums = exps.sum(axis=1, keepdims=True)\n",
    "        return exps / exp_sums\n",
    "\n",
    "    def fit(self, X_train, y_train, X_valid, y_valid, C=100, eta=0.5, n_epochs=5001):\n",
    "        m = len(X_train)\n",
    "        best_loss = np.infty\n",
    "\n",
    "        y_train_one_hot = to_one_hot(y_train)\n",
    "        y_valid_one_hot = to_one_hot(y_valid)\n",
    "\n",
    "        n_inputs, n_outputs = X_train.shape[1], len(np.unique(y_train))\n",
    "\n",
    "        np.random.seed(42)\n",
    "        self.Theta = np.random.randn(n_inputs, n_outputs)\n",
    "\n",
    "        for epoch in range(n_epochs):\n",
    "            logits = X_train @ self.Theta\n",
    "            y_proba = self.softmax(logits) \n",
    "            y_proba_valid = self.softmax(X_valid @ self.Theta)\n",
    "            xentropy_losses = self.xentropy_losses(y_valid_one_hot, y_proba_valid)\n",
    "            l2_loss = 1 / 2 *(self.Theta[1:] ** 2).sum()\n",
    "            total_loss = xentropy_losses.sum(axis=1).mean() + 1 / C * l2_loss\n",
    "\n",
    "            if epoch % 1000 == 0:\n",
    "                print(epoch, total_loss.round(4))\n",
    "            if total_loss < best_loss:\n",
    "                self.model_params = self.Theta\n",
    "                best_loss = total_loss\n",
    "            # else:\n",
    "            #     print(epoch - 1, best_loss.round(4))\n",
    "            #     print(epoch, total_loss.round(4), \"early stopping!\")\n",
    "            #     break\n",
    "\n",
    "            error = y_proba - y_train_one_hot\n",
    "            gradients = 1 / m * X_train.T @ error\n",
    "            gradients += np.r_[np.zeros([1, n_outputs]), 1 / C * self.Theta[1:]]\n",
    "            self.Theta = self.Theta - eta * gradients\n",
    "\n",
    "    def xentropy_losses(self, y_valid_one_hot, y_proba_valid):\n",
    "        return -(y_valid_one_hot * np.log(y_proba_valid + epsilon))\n",
    "\n",
    "    def accuracy(self, X_valid, y_valid):\n",
    "        # logits = X_valid @ self.Theta\n",
    "        logits = X_valid @ self.model_params\n",
    "        y_proba = self.softmax(logits)\n",
    "        y_predict = y_proba.argmax(axis=1)\n",
    "\n",
    "        accuracy_score = (y_predict == y_valid).mean()\n",
    "        return accuracy_score"
   ]
  },
  {
   "cell_type": "code",
   "execution_count": 2,
   "metadata": {},
   "outputs": [],
   "source": [
    "from sklearn.datasets import load_iris\n",
    "\n",
    "iris = load_iris(as_frame=True)\n",
    "\n",
    "X = iris.data[[\"petal length (cm)\", \"petal width (cm)\"]].values\n",
    "y = iris[\"target\"].values"
   ]
  },
  {
   "cell_type": "code",
   "execution_count": 3,
   "metadata": {},
   "outputs": [],
   "source": [
    "X_with_bias = np.c_[np.ones(len(X)), X]"
   ]
  },
  {
   "cell_type": "code",
   "execution_count": 4,
   "metadata": {},
   "outputs": [],
   "source": [
    "test_ratio = 0.2\n",
    "validation_ratio = 0.2\n",
    "total_size = len(X_with_bias)\n",
    "\n",
    "test_size = int(total_size * test_ratio)\n",
    "validation_size = int(total_size * validation_ratio)\n",
    "train_size = total_size - test_size - validation_size\n",
    "\n",
    "np.random.seed(42)\n",
    "rnd_indices = np.random.permutation(total_size)\n",
    "\n",
    "X_train = X_with_bias[rnd_indices[:train_size]]\n",
    "y_train = y[rnd_indices[:train_size]]\n",
    "X_valid = X_with_bias[rnd_indices[train_size:-test_size]]\n",
    "y_valid = y[rnd_indices[train_size:-test_size]]\n",
    "X_test = X_with_bias[rnd_indices[test_size:]]\n",
    "y_test = y[rnd_indices[test_size:]]"
   ]
  },
  {
   "cell_type": "code",
   "execution_count": 19,
   "metadata": {},
   "outputs": [
    {
     "name": "stdout",
     "output_type": "stream",
     "text": [
      "0 7.6181\n",
      "1000 0.3435\n",
      "2000 0.2753\n",
      "3000 0.2746\n",
      "4000 0.2743\n",
      "5000 0.2741\n"
     ]
    }
   ],
   "source": [
    "softmax_reg = SoftMaxRegression()\n",
    "softmax_reg.fit(X_train, y_train, X_valid, y_valid)"
   ]
  },
  {
   "cell_type": "code",
   "execution_count": 20,
   "metadata": {},
   "outputs": [
    {
     "data": {
      "text/plain": [
       "0.95"
      ]
     },
     "execution_count": 20,
     "metadata": {},
     "output_type": "execute_result"
    }
   ],
   "source": [
    "accuracy_score = softmax_reg.accuracy(X_test, y_test)\n",
    "accuracy_score"
   ]
  }
 ],
 "metadata": {
  "kernelspec": {
   "display_name": "Python 3",
   "language": "python",
   "name": "python3"
  },
  "language_info": {
   "codemirror_mode": {
    "name": "ipython",
    "version": 3
   },
   "file_extension": ".py",
   "mimetype": "text/x-python",
   "name": "python",
   "nbconvert_exporter": "python",
   "pygments_lexer": "ipython3",
   "version": "3.9.7"
  },
  "orig_nbformat": 4
 },
 "nbformat": 4,
 "nbformat_minor": 2
}
